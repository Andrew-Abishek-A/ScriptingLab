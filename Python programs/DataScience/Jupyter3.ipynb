{
 "cells": [
  {
   "cell_type": "code",
   "execution_count": 13,
   "metadata": {},
   "outputs": [
    {
     "name": "stdout",
     "output_type": "stream",
     "text": [
      "   Survived        Pclass     Sex   Age  SibSp     Fare Cabin\n",
      "0      Died   Lower Class    male  22.0      1   7.2500   XXX\n",
      "1  Survived  Luxury Class  female  38.0      1  71.2833   C85\n",
      "2  Survived   Lower Class  female  26.0      0   7.9250   XXX\n",
      "3  Survived  Luxury Class  female  35.0      1  53.1000  C123\n",
      "4      Died   Lower Class    male  35.0      0   8.0500   XXX\n"
     ]
    }
   ],
   "source": [
    "import numpy as np\n",
    "import pandas as pd\n",
    "\n",
    "titanic_df = pd.read_csv(\"titanictrain.csv\")\n",
    "\n",
    "titanic_df[\"Survived\"] = titanic_df[\"Survived\"].map({\n",
    "    0 : 'Died',\n",
    "    1 : 'Survived'\n",
    "})\n",
    "titanic_df['Pclass'] = titanic_df['Pclass'].map({\n",
    "    1: 'Luxury Class',\n",
    "    2: 'Economy Class',\n",
    "    3: 'Lower Class'\n",
    "})\n",
    "\n",
    "\n",
    "titanic_df['Embarked'] = titanic_df['Embarked'].fillna(\"S\")\n",
    "titanic_df['Cabin'] = titanic_df['Cabin'].fillna(\"XXX\")\n",
    "\n",
    "titanic_df['Embarked'] = titanic_df['Embarked'].map({\n",
    "    'S' : 'Southamton',\n",
    "    'C' : 'Cherbourg',\n",
    "    'Q' : 'Queenstown'\n",
    "})\n",
    "\n",
    "\n",
    "titanic_df.drop(['Parch', 'PassengerId', 'Name', 'Ticket', 'Embarked'], axis = 1, inplace = True)\n",
    "print(titanic_df.head(5))\n",
    "\n",
    "\n",
    "import seaborn as sb\n",
    "import mathplotlib.pyplot as plt\n",
    "\n",
    "sb.countplot(x = 'Pclass', data = titanic_df, hue = 'Survived', pallete = 'set1')\n",
    ".set"
   ]
  },
  {
   "cell_type": "code",
   "execution_count": null,
   "metadata": {},
   "outputs": [],
   "source": []
  },
  {
   "cell_type": "code",
   "execution_count": null,
   "metadata": {},
   "outputs": [],
   "source": []
  }
 ],
 "metadata": {
  "kernelspec": {
   "display_name": "Python 3",
   "language": "python",
   "name": "python3"
  },
  "language_info": {
   "codemirror_mode": {
    "name": "ipython",
    "version": 3
   },
   "file_extension": ".py",
   "mimetype": "text/x-python",
   "name": "python",
   "nbconvert_exporter": "python",
   "pygments_lexer": "ipython3",
   "version": "3.4.3"
  }
 },
 "nbformat": 4,
 "nbformat_minor": 2
}
